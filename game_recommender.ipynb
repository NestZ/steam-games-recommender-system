{
 "cells": [
  {
   "cell_type": "code",
   "execution_count": null,
   "metadata": {
    "tags": []
   },
   "outputs": [],
   "source": [
    "from recsys import *  # helper function\n",
    "from generic_preprocessing import *  # helper function \n",
    "from IPython.display import HTML"
   ]
  },
  {
   "cell_type": "code",
   "execution_count": null,
   "metadata": {},
   "outputs": [],
   "source": [
    "steam = pd.read_csv('./data/steam.csv')\n",
    "steam.head()\n",
    "\n",
    "games = []\n",
    "i = 0\n",
    "\n",
    "for e in steam.iloc:\n",
    "    i += 1\n",
    "    games.append(e[1])\n",
    "    \n",
    "print(len(games))"
   ]
  },
  {
   "cell_type": "code",
   "execution_count": null,
   "metadata": {
    "tags": []
   },
   "outputs": [],
   "source": [
    "s_games = set(games)\n",
    "i = 0\n",
    "\n",
    "str_lst = []\n",
    "str_lst.append(('id', 'games'))\n",
    "\n",
    "game_id_dict = {}\n",
    "game_name_dict = {}\n",
    "\n",
    "for g in s_games:\n",
    "    i += 1\n",
    "    str_lst.append((str(i), g))\n",
    "    game_id_dict[i] = g\n",
    "    game_name_dict[g] = i\n",
    "\n",
    "csv_data = pd.DataFrame(str_lst)\n",
    "csv_data.to_csv('./data/games.csv', index=False, sep=',', header=None)"
   ]
  },
  {
   "cell_type": "code",
   "execution_count": null,
   "metadata": {
    "tags": []
   },
   "outputs": [],
   "source": [
    "own_lst = []\n",
    "own_lst.append(('userId', 'game_id', 'owned'))\n",
    "\n",
    "i = 0\n",
    "lst = -1\n",
    "cur_id = 0\n",
    "\n",
    "for e in steam.iloc:\n",
    "    if e[2] == 'play':\n",
    "        continue\n",
    "    i += 1\n",
    "    if lst != e[0]:\n",
    "        cur_id += 1\n",
    "    own_lst.append((cur_id, game_name_dict[e[1]], 5))\n",
    "    lst = e[0]\n",
    "\n",
    "print(len(own_lst))\n",
    "\n",
    "csv_data_user = pd.DataFrame(own_lst)\n",
    "csv_data_user.to_csv('./data/owning.csv', index=False, sep=',', header=None)\n"
   ]
  },
  {
   "cell_type": "code",
   "execution_count": null,
   "metadata": {},
   "outputs": [],
   "source": [
    "owning = pd.read_csv('./data/owning.csv')\n",
    "my_interactions = create_interaction_matrix(df = owning, user_col = 'userId', item_col = 'game_id', rating_col = 'owned')\n",
    "my_interactions.head()"
   ]
  },
  {
   "cell_type": "code",
   "execution_count": null,
   "metadata": {
    "tags": []
   },
   "outputs": [],
   "source": [
    "user_dict = create_user_dict(interactions=my_interactions)\n",
    "\n",
    "g = pd.read_csv('./data/games.csv')\n",
    "games_dict = create_item_dict(df = g,\n",
    "                               id_col = 'id',\n",
    "                               name_col = 'games')\n",
    "\n",
    "mf_model = runMF(interactions = my_interactions,\n",
    "                 n_components = 30,\n",
    "                 loss = 'warp',\n",
    "                 epoch = 30,\n",
    "                 n_jobs = 4)"
   ]
  },
  {
   "cell_type": "code",
   "execution_count": null,
   "metadata": {
    "tags": []
   },
   "outputs": [],
   "source": [
    "rec_list = sample_recommendation_user(model = mf_model, \n",
    "                                      interactions = my_interactions, \n",
    "                                      user_id = 1,\n",
    "                                      user_dict = user_dict,\n",
    "                                      item_dict = games_dict, \n",
    "                                      threshold = 4,\n",
    "                                      nrec_items = 10,\n",
    "                                      show = True)"
   ]
  },
  {
   "cell_type": "code",
   "execution_count": null,
   "metadata": {},
   "outputs": [],
   "source": [
    "print(rec_list)"
   ]
  },
  {
   "cell_type": "code",
   "execution_count": null,
   "metadata": {},
   "outputs": [],
   "source": []
  }
 ],
 "metadata": {
  "kernelspec": {
   "name": "python3",
   "display_name": "Python 3.8.5 64-bit ('base': conda)"
  },
  "language_info": {
   "codemirror_mode": {
    "name": "ipython",
    "version": 3
   },
   "file_extension": ".py",
   "mimetype": "text/x-python",
   "name": "python",
   "nbconvert_exporter": "python",
   "pygments_lexer": "ipython3",
   "version": "3.8.5"
  },
  "interpreter": {
   "hash": "cbf101488eafd169dba2c657d0e46156aa31084b77f3c1453d27d754808c0076"
  }
 },
 "nbformat": 4,
 "nbformat_minor": 2
}